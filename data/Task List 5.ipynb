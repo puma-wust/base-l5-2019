{
 "cells": [
  {
   "cell_type": "markdown",
   "metadata": {},
   "source": [
    "### 2018/2019 - Task List 5\n",
    "\n",
    "[Book](https://raw.githubusercontent.com/jonesgithub/book-1/master/ML%20Machine%20Learning-A%20Probabilistic%20Perspective.pdf)\n",
    "\n",
    "\n",
    "Pyro [SVI](http://pyro.ai/examples/svi_part_i.html#Setup)\n",
    "\n",
    "Pyro [Bayesian Regression - Introduction](http://pyro.ai/examples/bayesian_regression.html)\n",
    "\n",
    "[Video introduction to Bayesian Inference](https://www.youtube.com/watch?time_continue=3&v=DYRK0-_K2UU)\n",
    "\n",
    "0. \n",
    " - Look at sample code\n",
    " - Watch introductory video\n",
    " - Read pyro introduction to bayesian regression\n",
    "1. Select pair of parameters from Task List 3 that has bigest corellation\n",
    "2. Train classic linear regresion\n",
    "3. Train Bayesian lienar regresion\n",
    "4. Visualize results in both cases"
   ]
  },
  {
   "cell_type": "markdown",
   "metadata": {},
   "source": [
    "## Required imports"
   ]
  },
  {
   "cell_type": "code",
   "execution_count": 1,
   "metadata": {},
   "outputs": [],
   "source": [
    "%matplotlib inline\n",
    "import pyro\n",
    "import torch\n",
    "import numpy as np\n",
    "import matplotlib.pyplot as plt\n",
    "import pyro.optim as optim\n",
    "import pyro.distributions as dist\n",
    "from torch.distributions import constraints\n",
    "from tqdm import tqdm\n",
    "from matplotlib import animation, rc\n",
    "from IPython.display import HTML\n",
    "import torch.nn as nn\n",
    "from functools import partial\n",
    "import pandas as pd\n",
    "from pyro.contrib.autoguide import AutoDiagonalNormal\n",
    "from pyro.infer import EmpiricalMarginal, SVI, Trace_ELBO, TracePredictive"
   ]
  },
  {
   "cell_type": "code",
   "execution_count": 2,
   "metadata": {},
   "outputs": [],
   "source": [
    "pyro.set_rng_seed(1)\n",
    "pyro.enable_validation(True)"
   ]
  },
  {
   "cell_type": "markdown",
   "metadata": {},
   "source": [
    "## Generate some linear data"
   ]
  },
  {
   "cell_type": "code",
   "execution_count": 3,
   "metadata": {},
   "outputs": [],
   "source": [
    "a=2.0\n",
    "b=3.0\n",
    "noise_mean=0\n",
    "noise_std=10\n",
    "count=50"
   ]
  },
  {
   "cell_type": "code",
   "execution_count": 4,
   "metadata": {},
   "outputs": [],
   "source": [
    "base=torch.arange(0, count).type(torch.FloatTensor)\n",
    "with pyro.plate(\"noise_plate\", count):\n",
    "    noise=pyro.sample(\"noise\", pyro.distributions.Normal(noise_mean, noise_std))\n",
    "\n",
    "x=base\n",
    "y=x*a+b+noise"
   ]
  },
  {
   "cell_type": "code",
   "execution_count": 5,
   "metadata": {},
   "outputs": [
    {
     "data": {
      "text/plain": [
       "tensor([ 0.,  1.,  2.,  3.,  4.,  5.,  6.,  7.,  8.,  9., 10., 11., 12., 13.,\n",
       "        14., 15., 16., 17., 18., 19., 20., 21., 22., 23., 24., 25., 26., 27.,\n",
       "        28., 29., 30., 31., 32., 33., 34., 35., 36., 37., 38., 39., 40., 41.,\n",
       "        42., 43., 44., 45., 46., 47., 48., 49.])"
      ]
     },
     "execution_count": 5,
     "metadata": {},
     "output_type": "execute_result"
    }
   ],
   "source": [
    "x"
   ]
  },
  {
   "cell_type": "code",
   "execution_count": 6,
   "metadata": {},
   "outputs": [
    {
     "data": {
      "text/plain": [
       "tensor([-12.2560,  -2.5023,   0.4602,  -7.0948,   9.9983,   6.9081,   5.2023,\n",
       "          0.9090,  11.8786,  24.0372,  15.2269,  22.4854,  24.7773,  45.8711,\n",
       "         33.2843,  37.6764,  28.0303,  25.3924,  45.9954,  42.9908,  51.6569,\n",
       "         47.4440,  40.3709,  57.0731,  62.0168,  51.2406,  32.5444,  42.5354,\n",
       "         59.6116,  54.8226,  55.0193,  63.6838,  85.7935,  68.2787,  71.6628,\n",
       "         68.6296,  82.6260,  81.4151,  90.6514, 101.1539,  85.1518,  79.7581,\n",
       "         85.1400,  82.5536, 106.3925,  84.3041,  61.6885,  89.5213, 110.1735,\n",
       "        103.9814])"
      ]
     },
     "execution_count": 6,
     "metadata": {},
     "output_type": "execute_result"
    }
   ],
   "source": [
    "y"
   ]
  },
  {
   "cell_type": "code",
   "execution_count": 7,
   "metadata": {},
   "outputs": [
    {
     "data": {
      "text/plain": [
       "[<matplotlib.lines.Line2D at 0x7f02045d7898>]"
      ]
     },
     "execution_count": 7,
     "metadata": {},
     "output_type": "execute_result"
    },
    {
     "data": {
      "image/png": "[encoded data removed]",
      "text/plain": [
       "<Figure size 432x288 with 1 Axes>"
      ]
     },
     "metadata": {
      "needs_background": "light"
     },
     "output_type": "display_data"
    }
   ],
   "source": [
    "plt.plot(x.numpy(), y.numpy(), \"o\")"
   ]
  },
  {
   "cell_type": "markdown",
   "metadata": {},
   "source": [
    "Prepare rows of data"
   ]
  },
  {
   "cell_type": "code",
   "execution_count": 8,
   "metadata": {},
   "outputs": [],
   "source": [
    "x_data=x[:,None]\n",
    "y_data=y[:,None]"
   ]
  },
  {
   "cell_type": "markdown",
   "metadata": {},
   "source": [
    "## Model"
   ]
  },
  {
   "cell_type": "markdown",
   "metadata": {},
   "source": [
    "\\begin{align}\n",
    "y & = a*x+b\n",
    "\\end{align}"
   ]
  },
  {
   "cell_type": "code",
   "execution_count": 9,
   "metadata": {},
   "outputs": [],
   "source": [
    "class RegressionModel(nn.Module):\n",
    "    def __init__(self):\n",
    "        # p = number of features\n",
    "        super(RegressionModel, self).__init__()\n",
    "        self.linear = nn.Linear(1, 1)\n",
    "        self.factor = nn.Parameter(torch.tensor(1.))\n",
    "\n",
    "    def forward(self, x):\n",
    "        return self.linear(x) + (self.factor * x)"
   ]
  },
  {
   "cell_type": "markdown",
   "metadata": {},
   "source": [
    "## Train linear regression"
   ]
  },
  {
   "cell_type": "markdown",
   "metadata": {},
   "source": [
    "Learning code"
   ]
  },
  {
   "cell_type": "code",
   "execution_count": 10,
   "metadata": {},
   "outputs": [],
   "source": [
    "def train_linear_model(x, y):\n",
    "    model=RegressionModel()\n",
    "    loss_fn = torch.nn.MSELoss(reduction='sum')\n",
    "    optim = torch.optim.Adam(model.parameters(), lr=0.0008)\n",
    "    num_iterations = 2000\n",
    "    for j in tqdm(range(num_iterations)):\n",
    "        # run the model forward on the data\n",
    "        y_pred = model(x)\n",
    "        # calculate the mse loss\n",
    "        loss = loss_fn(y_pred, y)\n",
    "        # initialize gradients to zero\n",
    "        optim.zero_grad()\n",
    "        # backpropagate\n",
    "        loss.backward()\n",
    "        # take a gradient step\n",
    "        optim.step()\n",
    "        if (j + 1) % 5000 == 0:\n",
    "            print(\"[iteration %04d] loss: %.4f\" % (j + 1, loss.item()))\n",
    "    # Inspect learned parameters\n",
    "    print(\"Learned parameters:\")\n",
    "    for name, param in model.named_parameters():\n",
    "        print(name, param.data.numpy())\n",
    "    return model"
   ]
  },
  {
   "cell_type": "markdown",
   "metadata": {},
   "source": [
    "Train"
   ]
  },
  {
   "cell_type": "code",
   "execution_count": 11,
   "metadata": {},
   "outputs": [
    {
     "name": "stderr",
     "output_type": "stream",
     "text": [
      "100%|██████████| 2000/2000 [00:01<00:00, 1827.60it/s]"
     ]
    },
    {
     "name": "stdout",
     "output_type": "stream",
     "text": [
      "Learned parameters:\n",
      "factor 1.53962242603302\n",
      "linear.weight [[ 0.52025026]]\n",
      "linear.bias [ 0.59336054]\n"
     ]
    },
    {
     "name": "stderr",
     "output_type": "stream",
     "text": [
      "\n"
     ]
    }
   ],
   "source": [
    "trained_model = train_linear_model(x_data, y_data)"
   ]
  },
  {
   "cell_type": "code",
   "execution_count": 12,
   "metadata": {},
   "outputs": [
    {
     "data": {
      "image/png": "[encoded data removed]",
      "text/plain": [
       "<Figure size 864x432 with 1 Axes>"
      ]
     },
     "metadata": {
      "needs_background": "light"
     },
     "output_type": "display_data"
    }
   ],
   "source": [
    "fig, ax = plt.subplots(nrows=1, ncols=1, figsize=(12, 6))\n",
    "plt.plot(x_data.squeeze().numpy(), y_data.squeeze().numpy(), \"bo\")\n",
    "y_learned=trained_model.forward(x_data)\n",
    "plt.plot(x_data.squeeze().numpy(), y_learned.detach().squeeze().numpy(), 'r');"
   ]
  },
  {
   "cell_type": "markdown",
   "metadata": {},
   "source": [
    "## Bayesian linear regresion"
   ]
  },
  {
   "cell_type": "markdown",
   "metadata": {},
   "source": [
    "probabilistic model\n",
    "\n",
    "assume some prior probabilities, get likelihood from data"
   ]
  },
  {
   "cell_type": "code",
   "execution_count": 13,
   "metadata": {},
   "outputs": [],
   "source": [
    "def create_probabilistic_model():\n",
    "    regression_model=RegressionModel()\n",
    "    def probabilistic_model(x_data, y_data):\n",
    "        # weight and bias priors\n",
    "        w_prior = pyro.distributions.Normal(torch.ones(1, 1)*3, torch.ones(1, 1)).to_event(1)\n",
    "        b_prior = pyro.distributions.Normal(torch.zeros(1,1), torch.ones(1,1)).to_event(1)\n",
    "        f_prior = pyro.distributions.Normal(2., 1000.)\n",
    "        priors = {'linear.weight': w_prior, 'linear.bias': b_prior, 'factor': f_prior}\n",
    "        scale = pyro.sample(\"sigma\", pyro.distributions.Uniform(0., 10.))\n",
    "        # lift module parameters to random variables sampled from the priors\n",
    "        lifted_module = pyro.random_module(\"module\", regression_model, priors)\n",
    "        # sample a nn (which also samples w and b)\n",
    "        lifted_reg_model = lifted_module()\n",
    "        with pyro.plate(\"map\", len(x_data)):\n",
    "            # run the nn forward on data\n",
    "            prediction_mean = lifted_reg_model(x_data).squeeze(-1)\n",
    "            # condition on the observed data\n",
    "            obs=pyro.sample(\"obs\",\n",
    "                        pyro.distributions.Normal(prediction_mean, scale),\n",
    "                        obs=y_data)\n",
    "            return prediction_mean\n",
    "    return probabilistic_model"
   ]
  },
  {
   "cell_type": "markdown",
   "metadata": {},
   "source": [
    "training code\n",
    "\n",
    "use SVI and ELBO loss"
   ]
  },
  {
   "cell_type": "code",
   "execution_count": 14,
   "metadata": {},
   "outputs": [],
   "source": [
    "def train():\n",
    "    pyro.clear_param_store()\n",
    "    num_iterations=1000\n",
    "    model = create_probabilistic_model()\n",
    "    guide = AutoDiagonalNormal(model)\n",
    "    optim = pyro.optim.Adam({\"lr\": 0.01})\n",
    "    svi = pyro.infer.SVI(model, guide, optim, loss=pyro.infer.Trace_ELBO(), num_samples=count)\n",
    "    t=tqdm(range(num_iterations))\n",
    "    for j in t:\n",
    "        loss = svi.step(x_data, y_data.squeeze(-1))\n",
    "        t.set_postfix(loss=loss)\n",
    "    return (model, svi)"
   ]
  },
  {
   "cell_type": "code",
   "execution_count": 15,
   "metadata": {},
   "outputs": [
    {
     "name": "stderr",
     "output_type": "stream",
     "text": [
      "100%|██████████| 1000/1000 [00:12<00:00, 79.80it/s, loss=220]   \n"
     ]
    }
   ],
   "source": [
    "probabilistic_model, svi = train()"
   ]
  },
  {
   "cell_type": "markdown",
   "metadata": {},
   "source": [
    "lets look what parameters we have"
   ]
  },
  {
   "cell_type": "code",
   "execution_count": 16,
   "metadata": {},
   "outputs": [
    {
     "name": "stdout",
     "output_type": "stream",
     "text": [
      "auto_loc tensor([0.7602, 0.9844, 0.9870, 0.9135], requires_grad=True)\n",
      "auto_scale tensor([0.7065, 0.3909, 0.3160, 1.0577], grad_fn=<AddBackward0>)\n"
     ]
    }
   ],
   "source": [
    "for name, value in pyro.get_param_store().items():\n",
    "    print(name, pyro.param(name))"
   ]
  },
  {
   "cell_type": "markdown",
   "metadata": {},
   "source": [
    "evaluation\n",
    "\n",
    "use Delta distribution in order to force pyro to sample prediction so we will be able to get parameters of learned distribution"
   ]
  },
  {
   "cell_type": "code",
   "execution_count": 17,
   "metadata": {},
   "outputs": [],
   "source": [
    "def get_marginal(traces, sites):\n",
    "    empirical_marginal=EmpiricalMarginal(traces, sites)\n",
    "    return empirical_marginal._get_samples_and_weights()[0].detach().cpu().numpy()\n",
    "\n",
    "def summary(traces, sites):\n",
    "    marginal = get_marginal(traces, sites)\n",
    "    site_stats = {}\n",
    "    for i in range(marginal.shape[1]):\n",
    "        site_name = sites[i]\n",
    "        site_marginal=marginal[:, i]\n",
    "        marginal_site = pd.DataFrame(site_marginal).transpose()\n",
    "        describe = partial(pd.Series.describe, percentiles=[.05, 0.25, 0.5, 0.75, 0.95])\n",
    "        site_stats[site_name] = marginal_site.apply(describe, axis=1) \\\n",
    "            [[\"mean\", \"std\", \"5%\", \"25%\", \"50%\", \"75%\", \"95%\"]]\n",
    "    return site_stats\n",
    "\n",
    "def wrapped_model(x_data, y_data):\n",
    "    model_result=probabilistic_model(x_data, y_data)\n",
    "    pyro.sample(\"prediction\", pyro.distributions.Delta(model_result))\n",
    "\n",
    "posterior = svi.run(x_data, y_data)"
   ]
  },
  {
   "cell_type": "code",
   "execution_count": 18,
   "metadata": {},
   "outputs": [],
   "source": [
    "trace_pred = TracePredictive(wrapped_model,\n",
    "                             posterior,\n",
    "                             num_samples=count)\n",
    "post_pred = trace_pred.run(x_data, None)\n",
    "post_summary = summary(post_pred, sites= ['prediction', 'obs'])\n",
    "mu = post_summary[\"prediction\"]\n",
    "y = post_summary[\"obs\"]\n",
    "predictions = pd.DataFrame({\n",
    "    \"x\": x_data,\n",
    "    \"mu_mean\": mu[\"mean\"],\n",
    "    \"mu_perc_5\": mu[\"5%\"],\n",
    "    \"mu_perc_95\": mu[\"95%\"],\n",
    "    \"y_mean\": y[\"mean\"],\n",
    "    \"y_perc_5\": y[\"5%\"],\n",
    "    \"y_perc_95\": y[\"95%\"],\n",
    "    \"true_y\": y_data,\n",
    "})"
   ]
  },
  {
   "cell_type": "markdown",
   "metadata": {},
   "source": [
    "Plot probabilities"
   ]
  },
  {
   "cell_type": "code",
   "execution_count": 19,
   "metadata": {},
   "outputs": [
    {
     "data": {
      "image/png": "[encoded data removed]",
      "text/plain": [
       "<Figure size 864x432 with 1 Axes>"
      ]
     },
     "metadata": {
      "needs_background": "light"
     },
     "output_type": "display_data"
    }
   ],
   "source": [
    "fig, ax = plt.subplots(nrows=1, ncols=1, figsize=(12, 6))\n",
    "x_values=x_data.squeeze().numpy()\n",
    "plt.plot(x_values, y_data.squeeze().numpy(), \"bo\")\n",
    "plt.plot(x_values, predictions['mu_mean'], 'r');\n",
    "plt.fill_between(x_values,\n",
    "                   predictions[\"mu_perc_5\"],\n",
    "                   predictions[\"mu_perc_95\"],\n",
    "                   color='r',\n",
    "                   alpha=0.5);"
   ]
  },
  {
   "cell_type": "markdown",
   "metadata": {},
   "source": [
    "Plot outcome variables"
   ]
  },
  {
   "cell_type": "code",
   "execution_count": 20,
   "metadata": {},
   "outputs": [
    {
     "data": {
      "image/png": "[encoded data removed]",
      "text/plain": [
       "<Figure size 864x432 with 1 Axes>"
      ]
     },
     "metadata": {
      "needs_background": "light"
     },
     "output_type": "display_data"
    }
   ],
   "source": [
    "fig, ax = plt.subplots(nrows=1, ncols=1, figsize=(12, 6))\n",
    "x_values=x_data.squeeze().numpy()\n",
    "plt.plot(x_values, y_data.squeeze().numpy(), \"bo\")\n",
    "plt.plot(x_values, predictions['y_mean'], 'r');\n",
    "plt.fill_between(x_values,\n",
    "                   predictions[\"y_perc_5\"],\n",
    "                   predictions[\"y_perc_95\"],\n",
    "                   color='r',\n",
    "                   alpha=0.5);"
   ]
  },
  {
   "cell_type": "markdown",
   "metadata": {},
   "source": [
    "# Solutions"
   ]
  },
  {
   "cell_type": "code",
   "execution_count": 22,
   "metadata": {},
   "outputs": [],
   "source": [
    "## Insert solution here"
   ]
  },
  {
   "cell_type": "code",
   "execution_count": null,
   "metadata": {},
   "outputs": [],
   "source": []
  },
  {
   "cell_type": "code",
   "execution_count": null,
   "metadata": {},
   "outputs": [],
   "source": []
  }
 ],
 "metadata": {
  "kernelspec": {
   "display_name": "Python 3",
   "language": "python",
   "name": "python3"
  },
  "language_info": {
   "codemirror_mode": {
    "name": "ipython",
    "version": 3
   },
   "file_extension": ".py",
   "mimetype": "text/x-python",
   "name": "python",
   "nbconvert_exporter": "python",
   "pygments_lexer": "ipython3",
   "version": "3.6.8"
  }
 },
 "nbformat": 4,
 "nbformat_minor": 2
}
